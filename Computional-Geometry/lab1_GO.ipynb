{
  "nbformat": 4,
  "nbformat_minor": 0,
  "metadata": {
    "colab": {
      "provenance": []
    },
    "kernelspec": {
      "name": "python3",
      "display_name": "Python 3"
    },
    "language_info": {
      "name": "python"
    }
  },
  "cells": [
    {
      "cell_type": "code",
      "source": [
        "import matplotlib.pyplot as plt\n",
        "import numpy as np"
      ],
      "metadata": {
        "id": "yULV_vgoI24J"
      },
      "execution_count": null,
      "outputs": []
    },
    {
      "cell_type": "code",
      "source": [
        "class Point:\n",
        "    def __init__(self, x, y):\n",
        "        self.x = x\n",
        "        self.y = y\n",
        "    def __str__(self):\n",
        "        return f\"({self.x}, {self.y})\"\n",
        "\n",
        "class Line:\n",
        "    def __init__(self, a, b):\n",
        "        self.a = a\n",
        "        self.b = b\n",
        "\n",
        "def draw_line(line, x1, x2):\n",
        "    x_values = [x1-10, x2+10]  # Zakres x dla rysowanej linii\n",
        "    y_values = [line.a * x + line.b for x in x_values]\n",
        "    plt.plot(x_values, y_values, label='Linia')\n",
        "\n",
        "def draw_point(point):\n",
        "    plt.plot(point.x, point.y, 'ro', label='Punkt')\n",
        "\n",
        "def draw_line_segment(point1, point2):\n",
        "    plt.plot([point1.x, point2.x], [point1.y, point2.y], '-')\n",
        "    plt.xlabel('X') # opisy\n",
        "    plt.ylabel('Y')"
      ],
      "metadata": {
        "id": "oVGLXPEGTK9P"
      },
      "execution_count": 23,
      "outputs": []
    },
    {
      "cell_type": "code",
      "source": [
        "def menu():\n",
        "    while True:\n",
        "        print(\"Wybierz opcję:\")\n",
        "        print(\"1. Wyznaczenie równania prostej, do której należy dana linia.\")\n",
        "        print(\"2. Sprawdzenie przynależności punktu do prostej.\")\n",
        "        print(\"3. Sprawdzenie przynależności punktu do linii (odcinka).\")\n",
        "        print(\"4. Określenie położenia punktu względem prostej (prawo/lewo).\")\n",
        "        print(\"5. Dokonanie translacji linii o podany wektor.\")\n",
        "        print(\"6. Dokonanie odbicia danego punktu względem linii.\")\n",
        "        print(\"0. Wyjdź z programu.\")\n",
        "\n",
        "        choice = input(\"Twój wybór: \")\n",
        "\n",
        "        if choice == \"1\":\n",
        "            print(\"Wybrano opcję 1.\")\n",
        "            zad_1()\n",
        "        elif choice == \"2\":\n",
        "            print(\"Wybrano opcję 2.\")\n",
        "            zad_2()\n",
        "        elif choice == \"3\":\n",
        "            print(\"Wybrano opcję 3.\")\n",
        "            zad_3()\n",
        "        elif choice == \"4\":\n",
        "            print(\"Wybrano opcję 4.\")\n",
        "            zad_4()\n",
        "        elif choice == \"5\":\n",
        "            print(\"Wybrano opcję 5.\")\n",
        "            zad_5()\n",
        "        elif choice == \"6\":\n",
        "            print(\"Wybrano opcję 6.\")\n",
        "            zad_6()\n",
        "        elif choice == \"0\":\n",
        "            print(\"Zamykanie programu...\")\n",
        "            break\n",
        "        else:\n",
        "            print(\"Nieprawidłowy wybór. Wybierz opcję od 0 do 6.\")"
      ],
      "metadata": {
        "id": "ihmX1aHuQo7F"
      },
      "execution_count": 24,
      "outputs": []
    },
    {
      "cell_type": "code",
      "source": [
        "def zad_1():\n",
        "  print(\"Wyznaczenie równania prostej, do której należy dana linia\")\n",
        "  print(\"Podaj 1 punkt\")\n",
        "  x1=float(input(\"x: \"))\n",
        "  y1=float(input(\"y: \"))\n",
        "  point1=Point(x1,y1)\n",
        "  print(\"Podaj 2 punkt\")\n",
        "  x2=float(input(\"x: \"))\n",
        "  y2=float(input(\"y: \"))\n",
        "  point2=Point(x2,y2)\n",
        "  a=(point1.y-point2.y)/(point1.x-point2.x)\n",
        "  b=point1.y-(a*point1.x)\n",
        "  line=Line(a,b)\n",
        "  draw_line(line,point1.x, point2.x)\n",
        "  draw_point(point1)\n",
        "  draw_point(point2)\n",
        "  draw_line_segment(point1, point2)\n",
        "  plt.show()"
      ],
      "metadata": {
        "id": "qCN6jAjWTRUv"
      },
      "execution_count": 25,
      "outputs": []
    },
    {
      "cell_type": "code",
      "source": [
        "def zad_2():\n",
        "  print(\"2. Sprawdzenie przynależności punktu do prostej.\")\n",
        "  print(\"Podaj 1 punkt\")\n",
        "  x1=float(input(\"x: \"))\n",
        "  y1=float(input(\"y: \"))\n",
        "  point1=Point(x1,y1)\n",
        "  a = float(input(\"Podaj wartość współczynnika kierunkowego a: \"))\n",
        "  b = float(input(\"Podaj wartość wyrazu wolnego b:  \"))\n",
        "  line=Line(a,b)\n",
        "  if(line.a*point1.x+b==point1.y):\n",
        "      print(\"Punkt nalezy do linii\")\n",
        "  else:\n",
        "      print(\"Punkt nie należy do linii\")\n",
        "  draw_point(point1)\n",
        "  draw_line(line,point1.x, point1.x)\n",
        "  plt.show()"
      ],
      "metadata": {
        "id": "k3sE01wcWJdE"
      },
      "execution_count": 26,
      "outputs": []
    },
    {
      "cell_type": "code",
      "source": [
        "def zad_3():\n",
        "   print(\"3. Sprawdzenie przynależności punktu do linii (odcinka).\")\n",
        "   print (\"Podaj 2 punkty ograniczające linię\")\n",
        "   print(\"Podaj 1 punkt\")\n",
        "   x1=float(input(\"x: \"))\n",
        "   y1=float(input(\"y: \"))\n",
        "   point1=Point(x1,y1)\n",
        "   print(\"Podaj 2 punkt\")\n",
        "   x2=float(input(\"x: \"))\n",
        "   y2=float(input(\"y: \"))\n",
        "   point2=Point(x2,y2)\n",
        "   print(\"Podaj punkt, którego przynależność do linii sprawdzasz\")\n",
        "   x=float(input(\"x: \"))\n",
        "   y=float(input(\"y: \"))\n",
        "   point=Point(x,y)\n",
        "   a=(point1.y-point2.y)/(point1.x-point2.x)\n",
        "   b=point1.y-(a*point1.x)\n",
        "   line=Line(a,b)\n",
        "   if (line.a * point.x + line.b == point.y and\n",
        "      max(point1.x, point2.x) >= point.x and\n",
        "      min(point1.x, point2.x) <= point.x and\n",
        "      max(point1.y, point2.y) >= point.y and\n",
        "      min(point1.y, point2.y) <= point.y):\n",
        "      print(\"Punkt należy do linii\")\n",
        "   else:\n",
        "      print(\"Punkt nie należy do linii\")\n",
        "   draw_point(point)\n",
        "   draw_line_segment(point1, point2)\n",
        "   plt.show()\n"
      ],
      "metadata": {
        "id": "QUXlBeL5WL48"
      },
      "execution_count": 27,
      "outputs": []
    },
    {
      "cell_type": "code",
      "source": [
        "def zad_4():\n",
        "  print(\"4. Określenie położenia punktu względem prostej (prawo/lewo).\")\n",
        "  print(\"podaj punkt\")\n",
        "  x1=float(input(\"x: \"))\n",
        "  y1=float(input(\"y: \"))\n",
        "  point1=Point(x1,y1)\n",
        "  a = float(input(\"Podaj wartość współczynnika kierunkowego a: \"))\n",
        "  b = float(input(\"Podaj wartość wyrazu wolnego b:  \"))\n",
        "  line=Line(a,b)\n",
        "  if(line.a*point1.x+line.b>point1.y):\n",
        "    print(\"punkt leży po prawej\")\n",
        "  elif(line.a*point1.x+line.b == point1.y):\n",
        "    print(\"punkt leży na prostej\")\n",
        "  else:\n",
        "    print(\"punkt leży po lewej\")\n",
        "  draw_line(line,point1.x, point1.x)\n",
        "  draw_point(point1)\n",
        "  plt.show()"
      ],
      "metadata": {
        "id": "vSLnPNiRWOJR"
      },
      "execution_count": 28,
      "outputs": []
    },
    {
      "cell_type": "code",
      "source": [
        "def zad_5():\n",
        "  print(\"5. Dokonanie translacji linii o podany wektor.\")\n",
        "  a = float(input(\"Podaj wartość współczynnika kierunkowego a: \"))\n",
        "  b = float(input(\"Podaj wartość wyrazu wolnego b:  \"))\n",
        "  line1=Line(a,b)\n",
        "  print(\"określ wektor o który przesuwasz prostą\")\n",
        "  c = float(input(\"Przesunięcie w kierunku OX:\"))\n",
        "  d = float(input(\"Przesunięcie w kierunku OY:\"))\n",
        "  line2=Line(a, b+d-a*c) # y= a(x-c) + d + d\n",
        "  point1=Point(0,b)\n",
        "  point2=Point(c,b+d)\n",
        "  draw_point(point1)\n",
        "  draw_line_segment(point1, point2)\n",
        "  draw_line(line1,c, c)\n",
        "  draw_line(line2,c, c)\n",
        "  plt.show()"
      ],
      "metadata": {
        "id": "umMwpOPrWQ29"
      },
      "execution_count": 29,
      "outputs": []
    },
    {
      "cell_type": "code",
      "source": [
        "def zad_6():\n",
        "  print(\"6. Dokonanie odbicia danego punktu względem linii.\")\n",
        "  print(\"Podaj 1 punkt\")\n",
        "  x1=float(input(\"x: \"))\n",
        "  y1=float(input(\"y: \"))\n",
        "  point1=Point(x1,y1)\n",
        "  a = float(input(\"Podaj wartość współczynnika kierunkowego a: \"))\n",
        "  b = float(input(\"Podaj wartość wyrazu wolnego b:  \"))\n",
        "  line=Line(a,b)\n",
        "  x2 = ((1 - a**2) * point1.x + 2 * a * point1.y - 2 * a * line.b) / (1 + a**2)\n",
        "  y2 = (2 * a * point1.x + (a**2 - 1) * point1.y + 2 * line.b) / (1 + a**2)\n",
        "  point2=Point(x2,y2)\n",
        "  draw_line(line,point1.x, point2.x)\n",
        "  draw_point(point1)\n",
        "  draw_point(point2)\n",
        "  plt.show()"
      ],
      "metadata": {
        "id": "IQVla0q9WS64"
      },
      "execution_count": 30,
      "outputs": []
    },
    {
      "cell_type": "code",
      "execution_count": 32,
      "metadata": {
        "id": "Q4z0hqrGMfYb",
        "colab": {
          "base_uri": "https://localhost:8080/"
        },
        "outputId": "f06238df-bd49-44d1-9f3c-75b3920ea89b"
      },
      "outputs": [
        {
          "output_type": "stream",
          "name": "stdout",
          "text": [
            "Wybierz opcję:\n",
            "1. Wyznaczenie równania prostej, do której należy dana linia.\n",
            "2. Sprawdzenie przynależności punktu do prostej.\n",
            "3. Sprawdzenie przynależności punktu do linii (odcinka).\n",
            "4. Określenie położenia punktu względem prostej (prawo/lewo).\n",
            "5. Dokonanie translacji linii o podany wektor.\n",
            "6. Dokonanie odbicia danego punktu względem linii.\n",
            "0. Wyjdź z programu.\n",
            "Twój wybór: 0\n",
            "Zamykanie programu...\n"
          ]
        }
      ],
      "source": [
        "menu()"
      ]
    }
  ]
}